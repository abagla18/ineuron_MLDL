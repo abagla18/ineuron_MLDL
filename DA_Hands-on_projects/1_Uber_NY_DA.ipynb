{
 "cells": [
  {
   "cell_type": "markdown",
   "metadata": {},
   "source": [
    "# 1-Uber NewYork Data Analysis\n",
    "---"
   ]
  },
  {
   "cell_type": "code",
   "execution_count": 1,
   "metadata": {},
   "outputs": [
    {
     "name": "stdout",
     "output_type": "stream",
     "text": [
      "Executable Python: C:\\Users\\maity\\.conda\\envs\\aku_mldl\\python.exe\n",
      "Python Version: 3.9.6\n"
     ]
    }
   ],
   "source": [
    "import sys\n",
    "import platform\n",
    "import pandas as pd\n",
    "import numpy as np\n",
    "import seaborn as sns\n",
    "import matplotlib.pyplot as plt\n",
    "%matplotlib inline\n",
    "import csv\n",
    "from collections import Counter\n",
    "from plotly.offline import iplot\n",
    "import plotly as py\n",
    "import plotly.tools as tls\n",
    "\n",
    "print(f\"Executable Python: {sys.executable}\")\n",
    "print(f\"Python Version: {platform.python_version()}\")\n",
    "\n",
    "#To show multiple outputs and misc. changes\n",
    "from IPython.core.interactiveshell import InteractiveShell\n",
    "InteractiveShell.ast_node_interactivity = \"all\" # Show all results without print (last_expr)"
   ]
  },
  {
   "cell_type": "code",
   "execution_count": null,
   "metadata": {},
   "outputs": [],
   "source": []
  }
 ],
 "metadata": {
  "interpreter": {
   "hash": "32daa97fe50eddd3c277645e648f3b7ab9d2bd3839ca8d9f0eb9e5f2dcfc0b25"
  },
  "kernelspec": {
   "display_name": "Python 3.9.6 64-bit ('aku_mldl': conda)",
   "language": "python",
   "name": "python3"
  },
  "language_info": {
   "codemirror_mode": {
    "name": "ipython",
    "version": 3
   },
   "file_extension": ".py",
   "mimetype": "text/x-python",
   "name": "python",
   "nbconvert_exporter": "python",
   "pygments_lexer": "ipython3",
   "version": "3.9.6"
  },
  "orig_nbformat": 4
 },
 "nbformat": 4,
 "nbformat_minor": 2
}
