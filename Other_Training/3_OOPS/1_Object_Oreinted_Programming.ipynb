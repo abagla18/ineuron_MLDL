{
 "cells": [
  {
   "cell_type": "markdown",
   "metadata": {},
   "source": [
    "# **OOPS**\n",
    "---"
   ]
  },
  {
   "cell_type": "code",
   "execution_count": 1,
   "metadata": {},
   "outputs": [
    {
     "name": "stdout",
     "output_type": "stream",
     "text": [
      "Executable Python: C:\\Users\\maity\\.conda\\envs\\aku_mldl\\python.exe\n",
      "Python Version: 3.9.6\n"
     ]
    }
   ],
   "source": [
    "import sys\n",
    "import platform\n",
    "import pandas as pd\n",
    "import numpy as np\n",
    "print(f\"Executable Python: {sys.executable}\")\n",
    "print(f\"Python Version: {platform.python_version()}\")\n",
    "\n",
    "#To show multiple outputs and misc. changes\n",
    "from IPython.core.interactiveshell import InteractiveShell\n",
    "InteractiveShell.ast_node_interactivity = \"all\" # Show all results without print (last_expr)"
   ]
  },
  {
   "cell_type": "code",
   "execution_count": 2,
   "metadata": {},
   "outputs": [],
   "source": [
    "class computer:\n",
    "    def config(self):\n",
    "        print(\"i5, 16gb, 1tb\")\n"
   ]
  },
  {
   "cell_type": "code",
   "execution_count": 3,
   "metadata": {},
   "outputs": [
    {
     "name": "stdout",
     "output_type": "stream",
     "text": [
      "i5, 16gb, 1tb\n"
     ]
    }
   ],
   "source": [
    "\n",
    "    com1=computer()\n",
    "    computer.config(com1)"
   ]
  },
  {
   "cell_type": "code",
   "execution_count": 4,
   "metadata": {},
   "outputs": [
    {
     "name": "stdout",
     "output_type": "stream",
     "text": [
      "i5, 16gb, 1tb\n"
     ]
    }
   ],
   "source": [
    "b=\"hello\"\n",
    "computer.config(b)"
   ]
  },
  {
   "cell_type": "code",
   "execution_count": 5,
   "metadata": {},
   "outputs": [
    {
     "name": "stdout",
     "output_type": "stream",
     "text": [
      "i5, 16gb, 1tb\n"
     ]
    }
   ],
   "source": [
    "com2 = computer()\n",
    "computer.config(com2)"
   ]
  },
  {
   "cell_type": "code",
   "execution_count": 6,
   "metadata": {},
   "outputs": [
    {
     "name": "stdout",
     "output_type": "stream",
     "text": [
      "i5, 16gb, 1tb\n"
     ]
    }
   ],
   "source": [
    "com1.config()"
   ]
  },
  {
   "cell_type": "code",
   "execution_count": 7,
   "metadata": {},
   "outputs": [],
   "source": [
    "class learning:\n",
    "    def __init__(self,a,b):\n",
    "        self.a1=a\n",
    "        self.b1=b\n",
    "\n",
    "    def config(self):\n",
    "        print (\"config is\",self.a1,self.b1)"
   ]
  },
  {
   "cell_type": "code",
   "execution_count": 8,
   "metadata": {},
   "outputs": [
    {
     "name": "stdout",
     "output_type": "stream",
     "text": [
      "config is i5 16\n",
      "config is ryzen3 8\n"
     ]
    }
   ],
   "source": [
    "comp1=learning('i5',16)\n",
    "comp2=learning('ryzen3',8)\n",
    "comp1.config()\n",
    "comp2.config()"
   ]
  },
  {
   "cell_type": "code",
   "execution_count": 9,
   "metadata": {},
   "outputs": [],
   "source": [
    "class car:\n",
    "    def __init__(self, brand, cost):\n",
    "        self.brand = brand\n",
    "        self.cost = cost\n",
    "\n",
    "    def just_print(self):\n",
    "        print(\"model is {} and cost is {}\".format(self.brand, self.cost))"
   ]
  },
  {
   "cell_type": "code",
   "execution_count": 10,
   "metadata": {},
   "outputs": [],
   "source": [
    "car1 = car(\"honda\", 30000)\n",
    "car2 = car(\"audi\", 50000)\n"
   ]
  },
  {
   "cell_type": "code",
   "execution_count": 11,
   "metadata": {},
   "outputs": [
    {
     "name": "stdout",
     "output_type": "stream",
     "text": [
      "model is honda and cost is 30000\n",
      "model is audi and cost is 50000\n"
     ]
    }
   ],
   "source": [
    "car1.just_print()\n",
    "car2.just_print()"
   ]
  },
  {
   "cell_type": "code",
   "execution_count": 12,
   "metadata": {},
   "outputs": [],
   "source": [
    "class some_things:\n",
    "    def __init__(self, a, b):\n",
    "        self.a = a\n",
    "        self.b = b\n",
    "\n",
    "    def print_hello():\n",
    "        print(\"hello\")\n",
    "\n",
    "    def add_func(self):\n",
    "        print(self.a + self.b)\n",
    "\n",
    "    def sub_func(self):\n",
    "        print(self.a - self.b)\n",
    "\n",
    "    def divide_func(self):\n",
    "        print(self.a / self.b)"
   ]
  },
  {
   "cell_type": "code",
   "execution_count": 13,
   "metadata": {},
   "outputs": [],
   "source": [
    "x1 = some_things(50, 20)\n",
    "x2 = some_things(30, 40)"
   ]
  },
  {
   "cell_type": "code",
   "execution_count": 14,
   "metadata": {},
   "outputs": [
    {
     "name": "stdout",
     "output_type": "stream",
     "text": [
      "70\n",
      "30\n",
      "2.5\n"
     ]
    }
   ],
   "source": [
    "x1.add_func()\n",
    "x1.sub_func()\n",
    "x1.divide_func()"
   ]
  },
  {
   "cell_type": "code",
   "execution_count": 15,
   "metadata": {},
   "outputs": [
    {
     "name": "stdout",
     "output_type": "stream",
     "text": [
      "70\n",
      "-10\n",
      "0.75\n"
     ]
    }
   ],
   "source": [
    "x2.add_func()\n",
    "x2.sub_func()\n",
    "x2.divide_func()"
   ]
  },
  {
   "cell_type": "code",
   "execution_count": 16,
   "metadata": {},
   "outputs": [],
   "source": [
    "class computer:\n",
    "    def __init__(self):\n",
    "        self.name=\"akanksha\"\n",
    "        self.age=33\n",
    "\n",
    "    def update(self):\n",
    "        self.age=22\n",
    "      \n",
    "\n",
    "    def compare(self,other):\n",
    "        if self.age == other.age:\n",
    "            return True\n",
    "        else:\n",
    "            return False"
   ]
  },
  {
   "cell_type": "code",
   "execution_count": 17,
   "metadata": {},
   "outputs": [],
   "source": [
    "c1=computer()\n",
    "c1.age = 30\n",
    "c2=computer()"
   ]
  },
  {
   "cell_type": "code",
   "execution_count": 18,
   "metadata": {},
   "outputs": [
    {
     "name": "stdout",
     "output_type": "stream",
     "text": [
      "they are different\n"
     ]
    }
   ],
   "source": [
    "if c1.compare(c2):    # (self.compare.(other))\n",
    "    print(\"they are same\")\n",
    "else:\n",
    "    print('they are different')"
   ]
  },
  {
   "cell_type": "code",
   "execution_count": 19,
   "metadata": {},
   "outputs": [],
   "source": [
    "class car:\n",
    "    wheels = 4\n",
    "    def __init__(self):\n",
    "        self.mil =10\n",
    "        self.com = 'BMW'\n",
    "\n",
    " "
   ]
  },
  {
   "cell_type": "code",
   "execution_count": 20,
   "metadata": {},
   "outputs": [],
   "source": [
    "c1 = car()\n",
    "c1.com = \"honda\"\n",
    "c1.mil = 30\n",
    "c2 = car()\n",
    "car.wheels = 6"
   ]
  },
  {
   "cell_type": "code",
   "execution_count": 21,
   "metadata": {},
   "outputs": [
    {
     "name": "stdout",
     "output_type": "stream",
     "text": [
      "30 honda 6\n",
      "BMW 10 6\n"
     ]
    }
   ],
   "source": [
    "print(c1.mil,c1.com,c1.wheels)\n",
    "print(c2.com,c2.mil,c2.wheels)"
   ]
  },
  {
   "cell_type": "code",
   "execution_count": 22,
   "metadata": {},
   "outputs": [],
   "source": [
    "class student:\n",
    "\n",
    "    school = \"Telusko\"\n",
    "\n",
    "\n",
    "    def __init__(self,m1,m2,m3):\n",
    "        self.m1 = m1\n",
    "        self.m2 = m2\n",
    "        self.m3 = m3\n",
    "\n",
    "    def avg(self):\n",
    "        return (self.m1 + self.m2 + self.m3)/3\n",
    "\n",
    "    def get_m1(self):\n",
    "        return self.m1\n",
    "\n",
    "    @classmethod\n",
    "    def info(cls):\n",
    "        return cls.school\n",
    "\n",
    "    @staticmethod\n",
    "    def info():\n",
    "        print(\"this is a student class..in abc module\")\n",
    "\n",
    "\n",
    "\n",
    "\n"
   ]
  },
  {
   "cell_type": "code",
   "execution_count": 23,
   "metadata": {},
   "outputs": [
    {
     "name": "stdout",
     "output_type": "stream",
     "text": [
      "35\n",
      "52.666666666666664\n",
      "36.666666666666664\n",
      "this is a student class..in abc module\n",
      "None\n"
     ]
    }
   ],
   "source": [
    "\n",
    "s1 = student(35,67,56)\n",
    "s2 = student(21,58,31)\n",
    "\n",
    "print(s1.get_m1())\n",
    "print(s1.avg())\n",
    "print(s2.avg())\n",
    "print(student.info())"
   ]
  },
  {
   "cell_type": "code",
   "execution_count": 24,
   "metadata": {},
   "outputs": [],
   "source": [
    "class student:\n",
    "\n",
    "    def __init__(self,name,rollno):\n",
    "        self.name=name\n",
    "        self.rollno = rollno\n",
    "        self.lap = self.laptop()\n",
    "\n",
    "\n",
    "    def show(self):\n",
    "        print(self.name,self.rollno)\n",
    "        self.lap.show()\n",
    "    class laptop:\n",
    "\n",
    "        def __init__(self):\n",
    "            self.brand='HP'\n",
    "            self.cpu = 'i5'\n",
    "            self.ram = 8\n",
    "\n",
    "\n",
    "        def show(self):\n",
    "            print(self.brand,self.cpu,self.ram)\n",
    "            \n",
    "\n",
    "\n",
    "\n"
   ]
  },
  {
   "cell_type": "code",
   "execution_count": 25,
   "metadata": {},
   "outputs": [
    {
     "name": "stdout",
     "output_type": "stream",
     "text": [
      "navin 2\n",
      "HP i5 8\n",
      "jenny 8\n",
      "HP i5 8\n"
     ]
    }
   ],
   "source": [
    "s1 = student(\"navin\",2)\n",
    "s2 = student(\"jenny\",8)\n",
    "\n",
    "s1.show()\n",
    "s2.show()"
   ]
  },
  {
   "cell_type": "code",
   "execution_count": 34,
   "metadata": {},
   "outputs": [
    {
     "name": "stdout",
     "output_type": "stream",
     "text": [
      "in A init\n",
      "feature1 is working\n",
      "feature2 is working\n",
      "in A init\n",
      "in B init\n",
      "feature3 is working\n",
      "feature4 is working\n",
      "in A init\n",
      "in B init\n",
      "feature3 is working\n"
     ]
    }
   ],
   "source": [
    "class A:\n",
    "\n",
    "    def __init__(self):\n",
    "        print(\"in A init\")\n",
    "    def feature1(self):\n",
    "        print(\"feature1 is working\")\n",
    "    def feature2(self):\n",
    "        print(\"feature2 is working\")\n",
    "\n",
    "class B(A):\n",
    "    def __init__(self):\n",
    "        super().__init__()\n",
    "        print(\"in B init\")\n",
    "    def feature3(self):\n",
    "        print(\"feature3 is working\")\n",
    "\n",
    "    def feature4(self):\n",
    "        print(\"feature4 is working\")\n",
    "\n",
    "class C(B):\n",
    "    def feature5(self):\n",
    "        print(\"feature5 is working\")\n",
    "\n",
    "a1 = A()\n",
    "\n",
    "a1.feature1()\n",
    "a1.feature2()\n",
    "\n",
    "b1=B()\n",
    "b1.feature3()\n",
    "b1.feature4()\n",
    "\n",
    "c1 = C()\n",
    "c1.feature3()"
   ]
  },
  {
   "cell_type": "code",
   "execution_count": 36,
   "metadata": {},
   "outputs": [
    {
     "name": "stdout",
     "output_type": "stream",
     "text": [
      "in A init\n",
      "feature1 is working\n",
      "feature2 is working\n",
      "in B init\n",
      "feature3 is working\n",
      "feature4 is working\n",
      "in A init\n",
      "in C init\n",
      "feature5 is working\n"
     ]
    }
   ],
   "source": [
    "class A:\n",
    "\n",
    "    def __init__(self):\n",
    "        print(\"in A init\")\n",
    "    def feature1(self):\n",
    "        print(\"feature1 is working\")\n",
    "    def feature2(self):\n",
    "        print(\"feature2 is working\")\n",
    "\n",
    "class B():\n",
    "    def __init__(self):\n",
    "        print(\"in B init\")\n",
    "    def feature3(self):\n",
    "        print(\"feature3 is working\")\n",
    "\n",
    "    def feature4(self):\n",
    "        print(\"feature4 is working\")\n",
    "\n",
    "class C(A,B):\n",
    "    def __init__(self):\n",
    "        super().__init__()\n",
    "        print(\"in C init\")\n",
    "    def feature5(self):\n",
    "        print(\"feature5 is working\")\n",
    "\n",
    "    def feat(self):\n",
    "        super.feature2()\n",
    "a1 = A()\n",
    "\n",
    "a1.feature1()\n",
    "a1.feature2()\n",
    "\n",
    "b1=B()\n",
    "b1.feature3()\n",
    "b1.feature4()\n",
    "\n",
    "c1 = C()\n",
    "c1.feature5()"
   ]
  },
  {
   "cell_type": "markdown",
   "metadata": {},
   "source": [
    "## PolyMorphism"
   ]
  },
  {
   "cell_type": "markdown",
   "metadata": {},
   "source": [
    "### Duck Typing"
   ]
  },
  {
   "cell_type": "code",
   "execution_count": 41,
   "metadata": {},
   "outputs": [
    {
     "name": "stdout",
     "output_type": "stream",
     "text": [
      "spell check\n",
      "convention check\n",
      "compiling\n",
      "running\n"
     ]
    }
   ],
   "source": [
    "class Pycharm:\n",
    "    def execute():\n",
    "        print(\"compiling\")\n",
    "        print(\"running\")\n",
    "\n",
    "class Myeditor:\n",
    "    def execute(self):\n",
    "        print(\"spell check\")\n",
    "        print(\"convention check\")\n",
    "        print(\"compiling\")\n",
    "        print(\"running\")    \n",
    "\n",
    "\n",
    "class Laptop:\n",
    "    def code(self,ide):\n",
    "        ide.execute()\n",
    "\n",
    "ide = Myeditor()\n",
    "\n",
    "lap1 = Laptop()\n",
    "lap1.code(ide)"
   ]
  },
  {
   "cell_type": "code",
   "execution_count": 50,
   "metadata": {},
   "outputs": [
    {
     "name": "stdout",
     "output_type": "stream",
     "text": [
      "162\n",
      "171\n",
      "s1 wins\n",
      "9\n",
      "95 78 \n",
      "67 93 \n"
     ]
    }
   ],
   "source": [
    "class student:\n",
    "\n",
    "    def __init__(self,m1,m2):\n",
    "        self.m1 = m1\n",
    "        self.m2 = m2\n",
    "    def __add__(self,other):\n",
    "        m1=self.m1 + other.m1\n",
    "        m2=self.m2 + other.m2\n",
    "        s3 = student(m1,m2)\n",
    "\n",
    "        return s3\n",
    "\n",
    "    def __gt__(self,other):\n",
    "        r1 = self.m1 + self.m2\n",
    "        r2 = other.m1 +other.m2\n",
    "        if r1 > r2:\n",
    "            return True\n",
    "        else:\n",
    "            return False\n",
    "\n",
    "\n",
    "    def __str__(self):\n",
    "        return \"{} {} \".format(self.m1,self.m2)\n",
    "s1 = student(95,78)\n",
    "s2 = student(67,93)\n",
    "s3=s1+s2   # ---> student.__add_(s1,s2)\n",
    "print(s3.m1)\n",
    "print(s3.m2)\n",
    "\n",
    "\n",
    "if s1>s2:\n",
    "    print('s1 wins')\n",
    "else:\n",
    "    print(\"s2 wins\")\n",
    "\n",
    "\n",
    "a = 9\n",
    "print(a.__str__())\n",
    "print(s1.__str__())\n",
    "print(s2.__str__())"
   ]
  },
  {
   "cell_type": "markdown",
   "metadata": {},
   "source": [
    "## method overloading and method overriding"
   ]
  },
  {
   "cell_type": "code",
   "execution_count": 62,
   "metadata": {},
   "outputs": [
    {
     "name": "stdout",
     "output_type": "stream",
     "text": [
      "6\n"
     ]
    }
   ],
   "source": [
    "class student:\n",
    "\n",
    "    def __init__(self,m1,m2):\n",
    "        self.m1 = m1\n",
    "        self.m2 = m2\n",
    "\n",
    "    def sum(self,a=None,b=None,c=None):\n",
    "        if a != None and b != None and c != None:\n",
    "            s=a+b+c\n",
    "        elif a != None and b !=None:\n",
    "            s=a+b\n",
    "        else:\n",
    "            s=a\n",
    "        return a\n",
    "        \n",
    "\n",
    "\n",
    "s1 = student(58,65)\n",
    "print(s1.sum(6,9))"
   ]
  },
  {
   "cell_type": "code",
   "execution_count": 65,
   "metadata": {},
   "outputs": [
    {
     "name": "stdout",
     "output_type": "stream",
     "text": [
      "in a show\n"
     ]
    }
   ],
   "source": [
    "class A:\n",
    "    def show(self):\n",
    "        print(\"in a show\")\n",
    "\n",
    "\n",
    "class B(A):\n",
    "    pass\n",
    "\n",
    "a1=B()\n",
    "a1.show()"
   ]
  },
  {
   "cell_type": "code",
   "execution_count": null,
   "metadata": {},
   "outputs": [],
   "source": []
  }
 ],
 "metadata": {
  "interpreter": {
   "hash": "32daa97fe50eddd3c277645e648f3b7ab9d2bd3839ca8d9f0eb9e5f2dcfc0b25"
  },
  "kernelspec": {
   "display_name": "Python 3.9.6 64-bit ('aku_mldl': conda)",
   "language": "python",
   "name": "python3"
  },
  "language_info": {
   "codemirror_mode": {
    "name": "ipython",
    "version": 3
   },
   "file_extension": ".py",
   "mimetype": "text/x-python",
   "name": "python",
   "nbconvert_exporter": "python",
   "pygments_lexer": "ipython3",
   "version": "3.9.6"
  },
  "orig_nbformat": 4
 },
 "nbformat": 4,
 "nbformat_minor": 2
}
