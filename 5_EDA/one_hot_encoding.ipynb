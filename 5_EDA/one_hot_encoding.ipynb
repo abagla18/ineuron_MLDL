{
 "cells": [
  {
   "cell_type": "code",
   "execution_count": null,
   "metadata": {},
   "outputs": [],
   "source": [
    "import pandas as pd\n",
    "import numpy as np\n"
   ]
  },
  {
   "cell_type": "code",
   "execution_count": null,
   "metadata": {},
   "outputs": [],
   "source": [
    "data=pd.read_csv('mercedesbenz.csv',usecols=['X1','X2','X3','X4','X5','X6'])\n",
    "data.head()"
   ]
  },
  {
   "cell_type": "code",
   "execution_count": null,
   "metadata": {},
   "outputs": [],
   "source": [
    "# how many labels in each column\n",
    "for col in data.columns:\n",
    "    print(col,':',len(data[col].unique()), \"labels\")"
   ]
  },
  {
   "cell_type": "code",
   "execution_count": null,
   "metadata": {},
   "outputs": [],
   "source": [
    "# examining how many columns we weill obtain after one hot encoding these variables\n",
    "pd.get_dummies(data,drop_first=True).shape"
   ]
  },
  {
   "cell_type": "markdown",
   "metadata": {},
   "source": [
    "### mysql"
   ]
  },
  {
   "cell_type": "code",
   "execution_count": 4,
   "metadata": {},
   "outputs": [],
   "source": [
    "import mysql.connector as conn\n",
    "import pandas as pd\n",
    "df = pd.read_csv('G:\\My Drive\\Projects\\iNeuron_internship_BA_1\\DATA\\wine_reviews_small.csv')\n",
    "df[[\"points\", \"price\"]] = df[[\"points\", \"price\"]].astype(float)\n",
    "df.to_csv('G:\\My Drive\\Projects\\iNeuron_internship_BA_1\\DATA\\wine_reviews_small_clean.csv')"
   ]
  },
  {
   "cell_type": "code",
   "execution_count": 5,
   "metadata": {},
   "outputs": [
    {
     "data": {
      "text/plain": [
       "[('wine_reviews_data',)]"
      ]
     },
     "execution_count": 5,
     "metadata": {},
     "output_type": "execute_result"
    }
   ],
   "source": [
    "# Set connection to MySQL\n",
    "mydb = conn.connect(host= 'localhost', user='root',passwd = 'absm1827', database = \"myschema1\")\n",
    "cursor = mydb.cursor()\n",
    "cursor.execute('show tables')\n",
    "cursor.fetchall()\n",
    "\n",
    "# Create empty table in MySQL\n",
    "query1 = \"\"\"create table myschema1.wine_reviews_data(\n",
    "country               text,\n",
    "description           text,\n",
    "designation           text,\n",
    "points                float,\n",
    "price                 float,\n",
    "province              text,\n",
    "region_1              text,\n",
    "region_2              text,\n",
    "taster_name           text,\n",
    "taster_twitter_handle text,\n",
    "title                 text,\n",
    "variety               text,\n",
    "winery                text)\"\"\"\n",
    "cursor = mydb.cursor()\n",
    "cursor.execute(query1)\n",
    "\n",
    "# Check if table is created\n",
    "cursor.execute('show tables')\n",
    "cursor.fetchall()"
   ]
  },
  {
   "cell_type": "code",
   "execution_count": null,
   "metadata": {},
   "outputs": [],
   "source": []
  },
  {
   "cell_type": "code",
   "execution_count": null,
   "metadata": {},
   "outputs": [],
   "source": []
  }
 ],
 "metadata": {
  "interpreter": {
   "hash": "32daa97fe50eddd3c277645e648f3b7ab9d2bd3839ca8d9f0eb9e5f2dcfc0b25"
  },
  "kernelspec": {
   "display_name": "Python 3.9.6 ('aku_mldl')",
   "language": "python",
   "name": "python3"
  },
  "language_info": {
   "codemirror_mode": {
    "name": "ipython",
    "version": 3
   },
   "file_extension": ".py",
   "mimetype": "text/x-python",
   "name": "python",
   "nbconvert_exporter": "python",
   "pygments_lexer": "ipython3",
   "version": "3.9.6"
  },
  "orig_nbformat": 4
 },
 "nbformat": 4,
 "nbformat_minor": 2
}
