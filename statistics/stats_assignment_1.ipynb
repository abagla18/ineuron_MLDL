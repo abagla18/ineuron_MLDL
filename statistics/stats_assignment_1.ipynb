{
 "cells": [
  {
   "cell_type": "code",
   "execution_count": 1,
   "metadata": {},
   "outputs": [
    {
     "name": "stdout",
     "output_type": "stream",
     "text": [
      "Executable Python: C:\\Users\\maity\\.conda\\envs\\aku_mldl\\python.exe\n",
      "Python Version: 3.9.6\n"
     ]
    }
   ],
   "source": [
    "import pandas as pd\n",
    "import numpy as np\n",
    "from scipy import stats\n",
    "import statistics\n",
    "import sys\n",
    "import platform\n",
    "print(f\"Executable Python: {sys.executable}\")\n",
    "print(f\"Python Version: {platform.python_version()}\")\n",
    "\n",
    "#To show multiple outputs and misc. changes\n",
    "from IPython.core.interactiveshell import InteractiveShell\n",
    "InteractiveShell.ast_node_interactivity = \"all\" # Show all results without print (last_expr)"
   ]
  },
  {
   "cell_type": "code",
   "execution_count": 6,
   "metadata": {},
   "outputs": [
    {
     "name": "stdout",
     "output_type": "stream",
     "text": [
      "mean is 6.85\n",
      "median is 7.0\n",
      "mode is ModeResult(mode=array([7]), count=array([5]))\n",
      "standard_deviation is 1.6311119875071343\n"
     ]
    }
   ],
   "source": [
    "# Problem Statement 1:\n",
    "# ********************\n",
    "x=[6, 7, 5, 7, 7, 8, 7, 6, 9, 7, 4, 10, 6, 8, 8, 9, 5, 6, 4, 8]\n",
    "mean=np.mean(x)\n",
    "median=np.median(x)\n",
    "mode=stats.mode(x)\n",
    "standard_deviation=statistics.stdev(x)\n",
    "print('mean is',mean)\n",
    "print('median is',median)\n",
    "print('mode is',mode)\n",
    "print('standard_deviation is',standard_deviation)\n"
   ]
  },
  {
   "cell_type": "code",
   "execution_count": 7,
   "metadata": {},
   "outputs": [
    {
     "name": "stdout",
     "output_type": "stream",
     "text": [
      "mean is 107.51428571428572\n",
      "median is 100.0\n",
      "mode is ModeResult(mode=array([75]), count=array([4]))\n",
      "standard_deviation is 39.33892805484412\n"
     ]
    }
   ],
   "source": [
    "# Problem Statement 2:\n",
    "# ********************\n",
    "a=[28, 122, 217, 130, 120, 86, 80, 90, 140, 120, 70, 40, 145, 113, 90, 68, 174, 194, 170,\n",
    "100, 75, 104, 97, 75,\n",
    "123, 100, 75, 104, 97, 75, 123, 100, 89, 120, 109]\n",
    "mean=np.mean(a)\n",
    "median=np.median(a)\n",
    "mode=stats.mode(a)\n",
    "standard_deviation=statistics.stdev(a)\n",
    "print('mean is',mean)\n",
    "print('median is',median)\n",
    "print('mode is',mode)\n",
    "print('standard_deviation is',standard_deviation)\n",
    "\n",
    "\n"
   ]
  },
  {
   "cell_type": "code",
   "execution_count": null,
   "metadata": {},
   "outputs": [],
   "source": [
    "# Problem Statement 3:\n",
    "# ********************\n",
    "x = [0, 1, 2, 3, 4, 5]\n",
    "fx = [0.09, 0.15, 0.40, 0.25, 0.10, 0.01]\n",
    "\n",
    "mean=sum(x*f(x))\n",
    "print('mean is',mean)\n",
    "print('variance is',variance)"
   ]
  }
 ],
 "metadata": {
  "interpreter": {
   "hash": "32daa97fe50eddd3c277645e648f3b7ab9d2bd3839ca8d9f0eb9e5f2dcfc0b25"
  },
  "kernelspec": {
   "display_name": "Python 3.9.6 64-bit ('aku_mldl': conda)",
   "language": "python",
   "name": "python3"
  },
  "language_info": {
   "codemirror_mode": {
    "name": "ipython",
    "version": 3
   },
   "file_extension": ".py",
   "mimetype": "text/x-python",
   "name": "python",
   "nbconvert_exporter": "python",
   "pygments_lexer": "ipython3",
   "version": "3.9.6"
  },
  "orig_nbformat": 4
 },
 "nbformat": 4,
 "nbformat_minor": 2
}
