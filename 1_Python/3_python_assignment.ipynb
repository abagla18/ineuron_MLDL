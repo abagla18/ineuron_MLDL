{
 "cells": [
  {
   "cell_type": "markdown",
   "metadata": {},
   "source": [
    "# *Assignment 3* - tuples and set"
   ]
  },
  {
   "cell_type": "code",
   "execution_count": null,
   "metadata": {},
   "outputs": [],
   "source": [
    "# REDUCE FUNCTION\n",
    "\n",
    "# function to add two numbers\n",
    "def add_num(a, b):\n",
    "    return a + b\n",
    "\n",
    "from functools import reduce\n",
    "numbers = [0, 1, 2, 3, 4]\n",
    "reduce(add_num, numbers)\n",
    "\n",
    "# reduce function in pure python\n",
    "def reduce_function(list_of_numbers):\n",
    "    '''\n",
    "    Function to reduce the list of numbers\n",
    "    '''\n",
    "    result = 0\n",
    "    for number in list_of_numbers:\n",
    "        result += number\n",
    "    return result\n",
    "reduce_function(numbers)\n",
    "\n",
    "\n",
    "letters = ['a', 'b', 'd', 'e', 'i', 'j', 'o']\n",
    "\n",
    "\n",
    "## FILTER FUNCTION\n",
    "\n",
    "# a function that returns True if letter is vowel\n",
    "def filter_vowels(letter):\n",
    "    vowels = ['a', 'e', 'i', 'o', 'u']\n",
    "    return True if letter in vowels else False\n",
    "\n",
    "filtered_vowels = filter(filter_vowels, letters)\n",
    "\n",
    "# converting to list\n",
    "vowels = list(filtered_vowels)\n",
    "print(vowels)\n",
    "\n",
    "# filter function in pure python\n",
    "def filter_function(list_of_numbers, condition):\n",
    "    '''\n",
    "    Function to filter the list of numbers\n",
    "    '''\n",
    "    result = []\n",
    "    for number in list_of_numbers:\n",
    "        if condition(number):\n",
    "            result.append(number)\n",
    "    return result\n",
    "\n",
    "filter_function(letters, filter_vowels)"
   ]
  }
 ],
 "metadata": {
  "interpreter": {
   "hash": "32daa97fe50eddd3c277645e648f3b7ab9d2bd3839ca8d9f0eb9e5f2dcfc0b25"
  },
  "kernelspec": {
   "display_name": "Python 3.9.6 64-bit ('aku_mldl': conda)",
   "name": "python3"
  },
  "language_info": {
   "name": "python",
   "version": "3.9.6"
  },
  "orig_nbformat": 4
 },
 "nbformat": 4,
 "nbformat_minor": 2
}
