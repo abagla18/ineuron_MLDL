{
 "cells": [
  {
   "cell_type": "markdown",
   "metadata": {},
   "source": [
    "# **11/6/21**\n",
    "---"
   ]
  },
  {
   "cell_type": "markdown",
   "metadata": {},
   "source": [
    "# **Object Oriented Programming**\n",
    "---"
   ]
  },
  {
   "cell_type": "code",
   "execution_count": 1,
   "metadata": {},
   "outputs": [
    {
     "name": "stdout",
     "output_type": "stream",
     "text": [
      "Executable Python: C:\\Users\\maity\\.conda\\envs\\aku_mldl\\python.exe\n",
      "Python Version: 3.9.6\n"
     ]
    }
   ],
   "source": [
    "import sys\n",
    "import platform\n",
    "import pandas as pd\n",
    "import numpy as np\n",
    "print(f\"Executable Python: {sys.executable}\")\n",
    "print(f\"Python Version: {platform.python_version()}\")\n",
    "\n",
    "#To show multiple outputs and misc. changes\n",
    "from IPython.core.interactiveshell import InteractiveShell\n",
    "InteractiveShell.ast_node_interactivity = \"all\" # Show all results without print (last_expr)"
   ]
  },
  {
   "cell_type": "code",
   "execution_count": 2,
   "metadata": {},
   "outputs": [],
   "source": [
    "class test:\n",
    "    pass"
   ]
  },
  {
   "cell_type": "code",
   "execution_count": 3,
   "metadata": {},
   "outputs": [],
   "source": [
    "class test1:\n",
    "    def test_func(self):\n",
    "        print(\"this is my first class\")\n",
    "\n",
    "        # self is just a pointer pointing towards the class related to the function and any name or variable can be used instead"
   ]
  },
  {
   "cell_type": "code",
   "execution_count": 4,
   "metadata": {},
   "outputs": [],
   "source": [
    "a = 'aku'\n",
    "b = test1()"
   ]
  },
  {
   "cell_type": "code",
   "execution_count": 5,
   "metadata": {},
   "outputs": [
    {
     "name": "stdout",
     "output_type": "stream",
     "text": [
      "this is my first class\n"
     ]
    }
   ],
   "source": [
    "b.test_func()"
   ]
  },
  {
   "cell_type": "code",
   "execution_count": 6,
   "metadata": {},
   "outputs": [],
   "source": [
    "class test2:\n",
    "    def __init__(self,a,b,c):\n",
    "        self.a1=a\n",
    "        self.b1=b\n",
    "        self.c1=c\n",
    "\n",
    "    def sumtest(self):\n",
    "        return self.a1+self.b1+self.c1"
   ]
  },
  {
   "cell_type": "code",
   "execution_count": 7,
   "metadata": {},
   "outputs": [],
   "source": [
    "f = test2(5,8,3)"
   ]
  },
  {
   "cell_type": "code",
   "execution_count": 8,
   "metadata": {},
   "outputs": [
    {
     "data": {
      "text/plain": [
       "16"
      ]
     },
     "execution_count": 8,
     "metadata": {},
     "output_type": "execute_result"
    }
   ],
   "source": [
    "f.sumtest()"
   ]
  },
  {
   "cell_type": "markdown",
   "metadata": {},
   "source": [
    "# **11/13/21**\n",
    "---"
   ]
  },
  {
   "cell_type": "markdown",
   "metadata": {},
   "source": [
    "## OOPS"
   ]
  },
  {
   "cell_type": "code",
   "execution_count": 9,
   "metadata": {},
   "outputs": [],
   "source": [
    "class test:\n",
    "    pass"
   ]
  },
  {
   "cell_type": "code",
   "execution_count": 10,
   "metadata": {},
   "outputs": [],
   "source": [
    "a = test()\n",
    "a.name=\"sid\"\n",
    "a.phone = 345657\n",
    "a.surname = \"maity\""
   ]
  },
  {
   "cell_type": "code",
   "execution_count": 11,
   "metadata": {},
   "outputs": [],
   "source": [
    "b=test()\n",
    "b.name =\"aku\"\n",
    "b.phone= [78,56,78]\n",
    "b.surname=\"bagla\""
   ]
  },
  {
   "cell_type": "code",
   "execution_count": 12,
   "metadata": {},
   "outputs": [
    {
     "data": {
      "text/plain": [
       "'sid'"
      ]
     },
     "execution_count": 12,
     "metadata": {},
     "output_type": "execute_result"
    },
    {
     "data": {
      "text/plain": [
       "'aku'"
      ]
     },
     "execution_count": 12,
     "metadata": {},
     "output_type": "execute_result"
    }
   ],
   "source": [
    "a.name\n",
    "b.name"
   ]
  },
  {
   "cell_type": "code",
   "execution_count": 13,
   "metadata": {},
   "outputs": [
    {
     "data": {
      "text/plain": [
       "[78, 56, 78]"
      ]
     },
     "execution_count": 13,
     "metadata": {},
     "output_type": "execute_result"
    }
   ],
   "source": [
    "b.phone"
   ]
  },
  {
   "cell_type": "code",
   "execution_count": 14,
   "metadata": {},
   "outputs": [],
   "source": [
    "class test1:\n",
    "    def __init__(self,name,phone,surname):\n",
    "        self.name = name\n",
    "        self.phone = phone\n",
    "        self.surname = surname"
   ]
  },
  {
   "cell_type": "code",
   "execution_count": 15,
   "metadata": {},
   "outputs": [
    {
     "data": {
      "text/plain": [
       "'maity'"
      ]
     },
     "execution_count": 15,
     "metadata": {},
     "output_type": "execute_result"
    },
    {
     "data": {
      "text/plain": [
       "'aku'"
      ]
     },
     "execution_count": 15,
     "metadata": {},
     "output_type": "execute_result"
    }
   ],
   "source": [
    "r = test1(\"sid\",345232,\"maity\")\n",
    "v = test1(\"aku\",45567,\"bagla\")\n",
    "\n",
    "r.surname\n",
    "v.name\n"
   ]
  },
  {
   "cell_type": "code",
   "execution_count": 16,
   "metadata": {},
   "outputs": [],
   "source": [
    "class car:\n",
    "    def __init__(self,year,make,model,engine_type,tyre_type):\n",
    "        self.year = year\n",
    "        self.make = make\n",
    "        self.model = model\n",
    "        self.engine_type = engine_type\n",
    "        self.tyre_type = tyre_type\n",
    "        \n",
    "\n",
    "    def engine_type1(self):\n",
    "        return self.year\n",
    "\n",
    "    \n",
    "    def __str__(self):\n",
    "        return \"this is my car object for audi\""
   ]
  },
  {
   "cell_type": "code",
   "execution_count": 17,
   "metadata": {},
   "outputs": [],
   "source": [
    "audi = car(2021,\"2342\",\"23\",\"xyz\",\"pqr\")\n",
    "bmw = car(2021,\"34355\",\"43\",\"xyz1\",\"pqr1\")"
   ]
  },
  {
   "cell_type": "code",
   "execution_count": 18,
   "metadata": {},
   "outputs": [
    {
     "data": {
      "text/plain": [
       "2021"
      ]
     },
     "execution_count": 18,
     "metadata": {},
     "output_type": "execute_result"
    },
    {
     "data": {
      "text/plain": [
       "'43'"
      ]
     },
     "execution_count": 18,
     "metadata": {},
     "output_type": "execute_result"
    }
   ],
   "source": [
    "audi.year\n",
    "bmw.model"
   ]
  },
  {
   "cell_type": "code",
   "execution_count": 19,
   "metadata": {},
   "outputs": [
    {
     "data": {
      "text/plain": [
       "2021"
      ]
     },
     "execution_count": 19,
     "metadata": {},
     "output_type": "execute_result"
    }
   ],
   "source": [
    "audi.engine_type1()"
   ]
  },
  {
   "cell_type": "code",
   "execution_count": 20,
   "metadata": {},
   "outputs": [
    {
     "name": "stdout",
     "output_type": "stream",
     "text": [
      "this is my car object for audi\n"
     ]
    }
   ],
   "source": [
    "print(audi)"
   ]
  },
  {
   "cell_type": "code",
   "execution_count": 21,
   "metadata": {},
   "outputs": [],
   "source": [
    "class datamanipulation:\n",
    "    def __init__(self,read_csv,read_excel,read_db) :\n",
    "        self.read_csv = read_csv\n",
    "        self.read_excel = read_excel\n",
    "        self.read_db = read_db\n",
    "\n",
    "    \n",
    "    def read_csv1(self):\n",
    "        return \"data from csv file\"\n",
    "\n",
    "    def read_excel1(self):\n",
    "        return \"data from excel sheet\"\n",
    "\n",
    "    def read_db1(self):\n",
    "        return \"data from db\"\n"
   ]
  },
  {
   "cell_type": "code",
   "execution_count": 22,
   "metadata": {},
   "outputs": [
    {
     "data": {
      "text/plain": [
       "'data from csv file'"
      ]
     },
     "execution_count": 22,
     "metadata": {},
     "output_type": "execute_result"
    },
    {
     "data": {
      "text/plain": [
       "'data from excel sheet'"
      ]
     },
     "execution_count": 22,
     "metadata": {},
     "output_type": "execute_result"
    },
    {
     "data": {
      "text/plain": [
       "'data from db'"
      ]
     },
     "execution_count": 22,
     "metadata": {},
     "output_type": "execute_result"
    }
   ],
   "source": [
    "read_data = datamanipulation(\"csv\",\"excel\",\"db\")\n",
    "read_data.read_csv1()\n",
    "read_data.read_excel1()\n",
    "read_data.read_db1()"
   ]
  },
  {
   "cell_type": "code",
   "execution_count": 23,
   "metadata": {},
   "outputs": [],
   "source": [
    "class test2:\n",
    "    def __init__(self,a,b,c):\n",
    "        self.a = a\n",
    "        self.b = b\n",
    "        self.c = c\n",
    "        "
   ]
  },
  {
   "cell_type": "code",
   "execution_count": 24,
   "metadata": {},
   "outputs": [
    {
     "data": {
      "text/plain": [
       "'aku'"
      ]
     },
     "execution_count": 24,
     "metadata": {},
     "output_type": "execute_result"
    }
   ],
   "source": [
    "d = test2(\"aku\",\"bagla\",333434)\n",
    "d.a"
   ]
  },
  {
   "cell_type": "code",
   "execution_count": 25,
   "metadata": {},
   "outputs": [],
   "source": [
    "class test3:\n",
    "    def __init__(self,a,b,c,d):\n",
    "        self.a = a\n",
    "        self.b = b\n",
    "        self.c = c\n",
    "        self.d = d\n",
    "    def test_in(self):\n",
    "        return self.a\n",
    "\n",
    "\n",
    "class test4(test3):\n",
    "     def __init__(self, a, b, c, d,p,q):\n",
    "         self.p = p\n",
    "         self.q = q \n",
    "         test3.__init__(self,a,b,c,d)\n",
    "        #super().__init__(a, b, c, d)\n",
    "\n",
    "e = test4(2,67,\"adf\",\"vfg\",5667,322)\n",
    "\n",
    "\n",
    "\n",
    "    "
   ]
  },
  {
   "cell_type": "code",
   "execution_count": 26,
   "metadata": {},
   "outputs": [
    {
     "data": {
      "text/plain": [
       "67"
      ]
     },
     "execution_count": 26,
     "metadata": {},
     "output_type": "execute_result"
    }
   ],
   "source": [
    "e.b"
   ]
  },
  {
   "cell_type": "markdown",
   "metadata": {},
   "source": [
    "# **11/14/21**\n",
    "---"
   ]
  },
  {
   "cell_type": "code",
   "execution_count": 27,
   "metadata": {},
   "outputs": [],
   "source": [
    " class person:\n",
    "     def __init__(self,name,surname,birth_year):\n",
    "         self.name = name\n",
    "         self.surname = surname\n",
    "         self.birth_year = birth_year\n",
    "         \n",
    "\n",
    "     def age(self,current_year):\n",
    "        return current_year-self.birth_year\n",
    "\n",
    "       "
   ]
  },
  {
   "cell_type": "code",
   "execution_count": 28,
   "metadata": {},
   "outputs": [
    {
     "data": {
      "text/plain": [
       "33"
      ]
     },
     "execution_count": 28,
     "metadata": {},
     "output_type": "execute_result"
    }
   ],
   "source": [
    "sample= person(\"aku\",\"bagla\",1988)\n",
    "sample.age(2021)\n"
   ]
  },
  {
   "cell_type": "code",
   "execution_count": 29,
   "metadata": {},
   "outputs": [],
   "source": [
    "class student(person):\n",
    "    def __init__(self, student_id, *args):\n",
    "        super(student,self).__init__(*args)\n",
    "        self.student_id = student_id\n",
    "\n",
    "        "
   ]
  },
  {
   "cell_type": "code",
   "execution_count": 30,
   "metadata": {},
   "outputs": [
    {
     "data": {
      "text/plain": [
       "33"
      ]
     },
     "execution_count": 30,
     "metadata": {},
     "output_type": "execute_result"
    }
   ],
   "source": [
    "stud = student(2345,\"aku\",\"bagla\",1988)\n",
    "stud.age(2021)"
   ]
  },
  {
   "cell_type": "code",
   "execution_count": 31,
   "metadata": {},
   "outputs": [],
   "source": [
    "class test3:\n",
    "    def __init__(self,a,b):\n",
    "        self.a = a\n",
    "        self.b = b\n",
    "\n",
    "class test4:\n",
    "    def __init__(self,c,d):\n",
    "        self.c = c\n",
    "        self.d = d"
   ]
  },
  {
   "cell_type": "code",
   "execution_count": 32,
   "metadata": {},
   "outputs": [],
   "source": [
    "class child(test3 , test4 ):\n",
    "    def __init__(self,a,b,c,d):\n",
    "        test3.__init__(self,a,b)\n",
    "        test4.__init__(self,c,d)\n",
    "\n",
    "    def fun_child(self):\n",
    "        print(self.a,self.c)\n"
   ]
  },
  {
   "cell_type": "code",
   "execution_count": 33,
   "metadata": {},
   "outputs": [
    {
     "name": "stdout",
     "output_type": "stream",
     "text": [
      "4 6\n"
     ]
    }
   ],
   "source": [
    "obj = child(4,5,6,7)\n",
    "obj.fun_child()"
   ]
  },
  {
   "cell_type": "code",
   "execution_count": 34,
   "metadata": {},
   "outputs": [],
   "source": [
    "class P1:\n",
    "    def __init__(self,a,b):\n",
    "        self.a = a\n",
    "        self.b = b\n",
    "\n",
    "    def fun_P1(self):\n",
    "        return \" P1 method is working\"\n",
    "\n",
    "\n",
    "class P2(P1):\n",
    "    def __init__(self,*args):\n",
    "        pass\n",
    "\n",
    "    def fun_P2(self):\n",
    "        return \" P2 method is working\"\n",
    "    \n",
    "\n",
    "class P3(P2):\n",
    "    def __init__(self):\n",
    "        pass\n",
    "    def fun_P3(self):\n",
    "        return \" P3 method is working\"\n",
    "        \n",
    "\n",
    "    \n",
    "    "
   ]
  },
  {
   "cell_type": "code",
   "execution_count": 35,
   "metadata": {},
   "outputs": [
    {
     "data": {
      "text/plain": [
       "' P1 method is working'"
      ]
     },
     "execution_count": 35,
     "metadata": {},
     "output_type": "execute_result"
    },
    {
     "data": {
      "text/plain": [
       "' P2 method is working'"
      ]
     },
     "execution_count": 35,
     "metadata": {},
     "output_type": "execute_result"
    },
    {
     "data": {
      "text/plain": [
       "' P3 method is working'"
      ]
     },
     "execution_count": 35,
     "metadata": {},
     "output_type": "execute_result"
    }
   ],
   "source": [
    "obj1 = P3()\n",
    "obj1.fun_P1()\n",
    "obj1.fun_P2()\n",
    "obj1.fun_P3()"
   ]
  },
  {
   "cell_type": "markdown",
   "metadata": {},
   "source": [
    "### **Method Overriding**\n",
    "---"
   ]
  },
  {
   "cell_type": "code",
   "execution_count": 36,
   "metadata": {},
   "outputs": [],
   "source": [
    "class person:\n",
    "     def __init__(self,name,surname,birth_year):\n",
    "         self.name = name\n",
    "         self.surname = surname\n",
    "         self.birth_year = birth_year\n",
    "         \n",
    "\n",
    "     def age(self,current_year):\n",
    "        return current_year-self.birth_year\n",
    "\n",
    "     def __str__(self):\n",
    "        return self.name\n",
    "\n",
    "\n",
    "class student(person):\n",
    "    def __init__(self, student_id, *args):\n",
    "        super(student,self).__init__(*args)\n",
    "        self.student_id = student_id\n",
    "\n",
    "    def __str__(self):\n",
    "        return  super(student,self).__str__() + str( self.student_id)\n",
    "        #return person.__str__(self) + str( self.student_id)"
   ]
  },
  {
   "cell_type": "code",
   "execution_count": 37,
   "metadata": {},
   "outputs": [
    {
     "name": "stdout",
     "output_type": "stream",
     "text": [
      "aku\n"
     ]
    }
   ],
   "source": [
    "per = person(\"aku\",\"bagla\", 1988)\n",
    "print(per)"
   ]
  },
  {
   "cell_type": "code",
   "execution_count": 38,
   "metadata": {},
   "outputs": [
    {
     "name": "stdout",
     "output_type": "stream",
     "text": [
      "aku23\n"
     ]
    }
   ],
   "source": [
    "stu = student(23,\"aku\",\"bagla\", 1988)\n",
    "print(stu)"
   ]
  },
  {
   "cell_type": "code",
   "execution_count": 49,
   "metadata": {},
   "outputs": [],
   "source": [
    "class tyre:\n",
    "    def __init__(self,branch,belted_bias,opt_pressure):\n",
    "        self.branch = branch\n",
    "        self.belted_bias = belted_bias\n",
    "        self.opt_pressure = opt_pressure\n",
    "\n",
    "    def __str__(self):\n",
    "        return self.branch + self.belted_bias + self.opt_pressure\n",
    "\n",
    "class engine:\n",
    "    def __init__(self,fuel_type, noise_level) :\n",
    "        self.fuel_type = fuel_type\n",
    "        self.noise_level = noise_level\n",
    "        \n",
    "    def __str__(self) -> str:\n",
    "        return self.fuel_type + self.noise_level\n",
    "\n",
    "class body:\n",
    "    def __init__(self,size):\n",
    "        self.size = size\n",
    "\n",
    "    def __str__(self):\n",
    "        return self.size\n",
    "\n",
    "\n",
    "class car:\n",
    "    def __init__(self,a,b,c):\n",
    "        self.a = a\n",
    "        self.b = b\n",
    "        self.c = c\n",
    "\n",
    "    def __str__(self):\n",
    "        return str(self.a) + str(self.b) + str(self.c)\n",
    "    "
   ]
  },
  {
   "cell_type": "code",
   "execution_count": 50,
   "metadata": {},
   "outputs": [],
   "source": [
    "t = tyre(\"branch\",\" belted_bias\",\" opt_pressure\")\n",
    "e = engine(\"fuel_type\",\" noise_level\")\n",
    "b = body(\"size\")\n",
    "c=car(\"a\", \" b\", \" c\")"
   ]
  },
  {
   "cell_type": "code",
   "execution_count": 51,
   "metadata": {},
   "outputs": [
    {
     "name": "stdout",
     "output_type": "stream",
     "text": [
      "branch belted_bias opt_pressure\n",
      "fuel_type noise_level\n",
      "size\n",
      "a b c\n"
     ]
    }
   ],
   "source": [
    "print(t)\n",
    "print(e)\n",
    "print(b)\n",
    "print(c)"
   ]
  },
  {
   "cell_type": "code",
   "execution_count": 52,
   "metadata": {},
   "outputs": [
    {
     "name": "stdout",
     "output_type": "stream",
     "text": [
      "branch belted_bias opt_pressurefuel_type noise_levelsize\n"
     ]
    }
   ],
   "source": [
    "c1 = car (t, e, b)\n",
    "print(c1)"
   ]
  },
  {
   "cell_type": "code",
   "execution_count": 65,
   "metadata": {},
   "outputs": [
    {
     "data": {
      "text/plain": [
       "5"
      ]
     },
     "execution_count": 65,
     "metadata": {},
     "output_type": "execute_result"
    }
   ],
   "source": [
    "class test5:\n",
    "    def __init__(self,a,b):\n",
    "        self.a = a \n",
    "        self.b = b\n",
    "\n",
    "class test6(test5):\n",
    "    def __init__(self, *args):\n",
    "        test5.__init__(self,*args)\n",
    "\n",
    "obj2 = test6(4,5)\n",
    "obj2.b\n",
    "        "
   ]
  },
  {
   "cell_type": "code",
   "execution_count": 70,
   "metadata": {},
   "outputs": [],
   "source": [
    "class multiplynum:\n",
    "    def __init__(self,a):\n",
    "        self.a = a\n",
    "\n",
    "    def __mul__(self,other):\n",
    "        return self.a * other.a"
   ]
  },
  {
   "cell_type": "code",
   "execution_count": 71,
   "metadata": {},
   "outputs": [
    {
     "data": {
      "text/plain": [
       "20"
      ]
     },
     "execution_count": 71,
     "metadata": {},
     "output_type": "execute_result"
    }
   ],
   "source": [
    "a1 = multiplynum(4)\n",
    "a2 = multiplynum(5)\n",
    "a1*a2"
   ]
  },
  {
   "cell_type": "code",
   "execution_count": 72,
   "metadata": {},
   "outputs": [],
   "source": [
    "class multiplynum:\n",
    "    def __init__(self,a):\n",
    "        self.a = a\n",
    "\n",
    "    def __mul__(self,other):\n",
    "        return self.a + other.a"
   ]
  },
  {
   "cell_type": "code",
   "execution_count": 74,
   "metadata": {},
   "outputs": [
    {
     "data": {
      "text/plain": [
       "9"
      ]
     },
     "execution_count": 74,
     "metadata": {},
     "output_type": "execute_result"
    }
   ],
   "source": [
    "a1 = multiplynum(4)\n",
    "a2 = multiplynum(5)\n",
    "a1*a2"
   ]
  },
  {
   "cell_type": "code",
   "execution_count": 75,
   "metadata": {},
   "outputs": [
    {
     "data": {
      "text/plain": [
       "9"
      ]
     },
     "execution_count": 75,
     "metadata": {},
     "output_type": "execute_result"
    }
   ],
   "source": [
    "a3 = multiplynum(4)\n",
    "a4 = multiplynum(5)\n",
    "a3*a4"
   ]
  },
  {
   "cell_type": "code",
   "execution_count": 79,
   "metadata": {},
   "outputs": [],
   "source": [
    "def test(a,b):\n",
    "    return a+b\n"
   ]
  },
  {
   "cell_type": "code",
   "execution_count": 80,
   "metadata": {},
   "outputs": [
    {
     "data": {
      "text/plain": [
       "'sudh kumar'"
      ]
     },
     "execution_count": 80,
     "metadata": {},
     "output_type": "execute_result"
    }
   ],
   "source": [
    "test(\"sudh\",\" kumar\")"
   ]
  },
  {
   "cell_type": "code",
   "execution_count": 81,
   "metadata": {},
   "outputs": [
    {
     "data": {
      "text/plain": [
       "7"
      ]
     },
     "execution_count": 81,
     "metadata": {},
     "output_type": "execute_result"
    }
   ],
   "source": [
    "test(3,4)"
   ]
  },
  {
   "cell_type": "markdown",
   "metadata": {},
   "source": [
    "### **Polymorphism**\n"
   ]
  },
  {
   "cell_type": "code",
   "execution_count": 82,
   "metadata": {},
   "outputs": [],
   "source": [
    "class insta:\n",
    "    def shared_stories(self):\n",
    "        print(\"print story on insta\")\n",
    "\n",
    "class facebook:\n",
    "    def shared_stories(self):\n",
    "        print(\"print story on facebook\")\n",
    "\n",
    "def sharestories(app):\n",
    "    app.shared_stories()\n"
   ]
  },
  {
   "cell_type": "code",
   "execution_count": 85,
   "metadata": {},
   "outputs": [
    {
     "name": "stdout",
     "output_type": "stream",
     "text": [
      "print story on facebook\n",
      "print story on insta\n"
     ]
    }
   ],
   "source": [
    "ins = insta()\n",
    "fb = facebook()\n",
    "sharestories(fb)\n",
    "sharestories(ins)"
   ]
  },
  {
   "cell_type": "code",
   "execution_count": 87,
   "metadata": {},
   "outputs": [],
   "source": [
    "class ineuron:\n",
    "    company_website = \"ineuron_ai\"\n",
    "    name = \"ineuron\"\n",
    "\n",
    "    def contact_details(self):\n",
    "        print(\"contact us at , self.company_website\")\n",
    "\n",
    "class MLclass(ineuron):\n",
    "    def __init__(self):\n",
    "        self.year_est = 2019\n",
    "        \n",
    "    def est_details(self):\n",
    "        print(self.name, self.company_website,self.year_est)\n",
    "\n"
   ]
  },
  {
   "cell_type": "code",
   "execution_count": 88,
   "metadata": {},
   "outputs": [
    {
     "name": "stdout",
     "output_type": "stream",
     "text": [
      "ineuron ineuron_ai 2019\n"
     ]
    }
   ],
   "source": [
    "ml = MLclass()\n",
    "ml.est_details()"
   ]
  },
  {
   "cell_type": "code",
   "execution_count": 89,
   "metadata": {},
   "outputs": [],
   "source": [
    "class ineuron:\n",
    "    #company_website = \"ineuron_ai\"\n",
    "    name = \"ineuron\"\n",
    "    def __init__(self):\n",
    "        self.company_website =\"ineuron_ai\"\n",
    "\n",
    "    def contact_details(self):\n",
    "        print(\"contact us at , self.company_website\")\n",
    "\n",
    "class MLclass(ineuron):\n",
    "    def __init__(self,*args):\n",
    "        self.year_est = 2019\n",
    "        super(MLclass,self).__init__(*args)\n",
    "    def est_details(self):\n",
    "        print(self.name, self.company_website,self.year_est)\n"
   ]
  },
  {
   "cell_type": "code",
   "execution_count": 90,
   "metadata": {},
   "outputs": [
    {
     "name": "stdout",
     "output_type": "stream",
     "text": [
      "ineuron ineuron_ai 2019\n"
     ]
    }
   ],
   "source": [
    "ml = MLclass()\n",
    "ml.est_details()"
   ]
  },
  {
   "cell_type": "code",
   "execution_count": null,
   "metadata": {},
   "outputs": [],
   "source": []
  }
 ],
 "metadata": {
  "interpreter": {
   "hash": "32daa97fe50eddd3c277645e648f3b7ab9d2bd3839ca8d9f0eb9e5f2dcfc0b25"
  },
  "kernelspec": {
   "display_name": "Python 3.9.6 64-bit ('aku_mldl': conda)",
   "name": "python3"
  },
  "language_info": {
   "codemirror_mode": {
    "name": "ipython",
    "version": 3
   },
   "file_extension": ".py",
   "mimetype": "text/x-python",
   "name": "python",
   "nbconvert_exporter": "python",
   "pygments_lexer": "ipython3",
   "version": "3.9.6"
  },
  "orig_nbformat": 4
 },
 "nbformat": 4,
 "nbformat_minor": 2
}
